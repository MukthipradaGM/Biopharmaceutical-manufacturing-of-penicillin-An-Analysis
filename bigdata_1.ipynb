{
  "nbformat": 4,
  "nbformat_minor": 0,
  "metadata": {
    "colab": {
      "name": "bigdata_1",
      "provenance": [],
      "collapsed_sections": []
    },
    "kernelspec": {
      "display_name": "Python 3",
      "name": "python3"
    }
  },
  "cells": [
    {
      "cell_type": "code",
      "metadata": {
        "colab": {
          "base_uri": "https://localhost:8080/"
        },
        "id": "BFuFicN90jiG",
        "outputId": "0f3b77ae-c15f-44dc-fbcd-c3ef956cfbb3"
      },
      "source": [
        "#im installing some stuff here\n",
        "!pip install -U -q PyDrive\n",
        "from pydrive.auth import GoogleAuth\n",
        "from pydrive.drive import GoogleDrive\n",
        "from google.colab import auth\n",
        "from oauth2client.client import GoogleCredentials\n",
        "# Authenticate and create the PyDrive client.\n",
        "\n",
        "\n",
        "\n",
        "#Visualization\n",
        "import matplotlib.pyplot as plt\n",
        "import seaborn as sns\n",
        "\n",
        "\n",
        "\n",
        "\n",
        "## Import necessary packages\n",
        "import os\n",
        "from urllib.request import urlretrieve \n",
        "import zipfile\n",
        "import numpy as np \n",
        "import matplotlib.pyplot as plt\n",
        "from ipywidgets import interact, interactive, fixed, interact_manual\n",
        "import ipywidgets as widgets\n",
        "import requests\n",
        "auth.authenticate_user()\n",
        "gauth = GoogleAuth()\n",
        "gauth.credentials = GoogleCredentials.get_application_default()\n",
        "drive = GoogleDrive(gauth)\n",
        "#connecting drive's csv to colab here\n",
        "link = 'https://drive.google.com/file/d/1yKgjU-dJiQ4YZ8K-j-MOebLOjCZu_U6U/view?usp=sharing'\n",
        "id = '1yKgjU-dJiQ4YZ8K-j-MOebLOjCZu_U6U'\n",
        "print (id) # Verify that you have everything after '='\n",
        "\n",
        "\n",
        "#slicing and concatanation\n",
        "import pandas as pd\n",
        "\n",
        "\n",
        "downloaded = drive.CreateFile({'id':id}) \n",
        "downloaded.GetContentFile('100_Batches_IndPenSim_V3.csv')\n",
        "df=pd.read_csv('100_Batches_IndPenSim_V3.csv')\n",
        "#m=data.head(1250)\n",
        "#p=data.loc[10000:11250]\n",
        "#n=data.loc[60000:61250]\n",
        "#q=data.loc[98000:99250]\n",
        "\n",
        "\n",
        "\n",
        "\n",
        "\n",
        "\n",
        "\n",
        "\n",
        "\n",
        "\n",
        "\n",
        "\n",
        "\n"
      ],
      "execution_count": null,
      "outputs": [
        {
          "output_type": "stream",
          "text": [
            "1yKgjU-dJiQ4YZ8K-j-MOebLOjCZu_U6U\n"
          ],
          "name": "stdout"
        }
      ]
    },
    {
      "cell_type": "code",
      "metadata": {
        "colab": {
          "base_uri": "https://localhost:8080/"
        },
        "id": "QOlSOeHjrKyS",
        "outputId": "7fa85619-7b0a-412f-de74-e6c0c5a92f26"
      },
      "source": [
        "df.info()"
      ],
      "execution_count": null,
      "outputs": [
        {
          "output_type": "stream",
          "text": [
            "<class 'pandas.core.frame.DataFrame'>\n",
            "RangeIndex: 113935 entries, 0 to 113934\n",
            "Columns: 2239 entries, Time (h) to 201\n",
            "dtypes: float64(2225), int64(14)\n",
            "memory usage: 1.9 GB\n"
          ],
          "name": "stdout"
        }
      ]
    },
    {
      "cell_type": "code",
      "metadata": {
        "colab": {
          "base_uri": "https://localhost:8080/"
        },
        "id": "UqeD2KVFrTUR",
        "outputId": "5cfa205e-ff5b-4021-9fd8-4c3842bf533b"
      },
      "source": [
        "df.shape"
      ],
      "execution_count": null,
      "outputs": [
        {
          "output_type": "execute_result",
          "data": {
            "text/plain": [
              "(113935, 2239)"
            ]
          },
          "metadata": {
            "tags": []
          },
          "execution_count": 28
        }
      ]
    },
    {
      "cell_type": "code",
      "metadata": {
        "colab": {
          "base_uri": "https://localhost:8080/"
        },
        "id": "nbvDfg6yrf63",
        "outputId": "7586f1aa-a33b-4355-b0b7-9b44616df51f"
      },
      "source": [
        "#To check missing values\n",
        "df.isna().sum()"
      ],
      "execution_count": null,
      "outputs": [
        {
          "output_type": "execute_result",
          "data": {
            "text/plain": [
              "Time (h)                        0\n",
              "Aeration rate(Fg:L/h)           0\n",
              "Agitator RPM(RPM:RPM)           0\n",
              "Sugar feed rate(Fs:L/h)         0\n",
              "Acid flow rate(Fa:L/h)          0\n",
              "                            ...  \n",
              "205                             0\n",
              "204                             0\n",
              "203                             0\n",
              "202                        113935\n",
              "201                        113935\n",
              "Length: 2239, dtype: int64"
            ]
          },
          "metadata": {
            "tags": []
          },
          "execution_count": 29
        }
      ]
    },
    {
      "cell_type": "code",
      "metadata": {
        "id": "j0HmFokxroCr"
      },
      "source": [
        "#Selecting the desired columns\n",
        "newdf = df.loc[:,['Time (h)', 'Aeration rate(Fg:L/h)', 'Agitator RPM(RPM:RPM)', 'Sugar feed rate(Fs:L/h)', 'Acid flow rate(Fa:L/h)', 'Base flow rate(Fb:L/h)', 'Heating/cooling water flow rate(Fc:L/h)', 'Heating water flow rate(Fh:L/h)', 'Water for injection/dilution(Fw:L/h)', 'Air head pressure(pressure:bar)', 'Dumped broth flow(Fremoved:L/h)', 'Substrate concentration(S:g/L)', 'Dissolved oxygen concentration(DO2:mg/L)', 'Penicillin concentration(P:g/L)', 'Vessel Volume(V:L)', 'Vessel Weight(Wt:Kg)', 'pH(pH:pH)', 'Temperature(T:K)', 'Generated heat(Q:kJ)', 'carbon dioxide percent in off-gas(CO2outgas:%)', 'PAA flow(Fpaa:PAA flow (L/h))', 'PAA concentration offline(PAA_offline:PAA (g L^{-1}))', 'Oil flow(Foil:L/hr)', 'NH_3 concentration off-line(NH3_offline:NH3 (g L^{-1}))', 'Oxygen Uptake Rate(OUR:(g min^{-1}))', 'Oxygen in percent in off-gas(O2:O2  (%))', 'Offline Penicillin concentration(P_offline:P(g L^{-1}))', 'Offline Biomass concentratio(X_offline:X(g L^{-1}))', 'Carbon evolution rate(CER:g/h)', 'Ammonia shots(NH3_shots:kgs)', 'Viscosity(Viscosity_offline:centPoise)', 'Fault reference(Fault_ref:Fault ref)', '0 - Recipe driven 1 - Operator controlled(Control_ref:Control ref)', '1- No Raman spec', '2-PAT control(PAT_ref:PAT ref)', 'Batch reference(Batch_ref:Batch ref)', 'Batch ID', 'Fault flag', ' 1-Raman spec recorded']]"
      ],
      "execution_count": null,
      "outputs": []
    },
    {
      "cell_type": "code",
      "metadata": {
        "colab": {
          "base_uri": "https://localhost:8080/"
        },
        "id": "3bH2VXsCsYzs",
        "outputId": "414dbd60-da52-47d2-c2aa-708429465c09"
      },
      "source": [
        "#Check for missing values\n",
        "newdf.isna().sum()"
      ],
      "execution_count": null,
      "outputs": [
        {
          "output_type": "execute_result",
          "data": {
            "text/plain": [
              "Time (h)                                                                   0\n",
              "Aeration rate(Fg:L/h)                                                      0\n",
              "Agitator RPM(RPM:RPM)                                                      0\n",
              "Sugar feed rate(Fs:L/h)                                                    0\n",
              "Acid flow rate(Fa:L/h)                                                     0\n",
              "Base flow rate(Fb:L/h)                                                     0\n",
              "Heating/cooling water flow rate(Fc:L/h)                                    0\n",
              "Heating water flow rate(Fh:L/h)                                            0\n",
              "Water for injection/dilution(Fw:L/h)                                       0\n",
              "Air head pressure(pressure:bar)                                            0\n",
              "Dumped broth flow(Fremoved:L/h)                                            0\n",
              "Substrate concentration(S:g/L)                                             0\n",
              "Dissolved oxygen concentration(DO2:mg/L)                                   0\n",
              "Penicillin concentration(P:g/L)                                            0\n",
              "Vessel Volume(V:L)                                                         0\n",
              "Vessel Weight(Wt:Kg)                                                       0\n",
              "pH(pH:pH)                                                                  0\n",
              "Temperature(T:K)                                                           0\n",
              "Generated heat(Q:kJ)                                                       0\n",
              "carbon dioxide percent in off-gas(CO2outgas:%)                             0\n",
              "PAA flow(Fpaa:PAA flow (L/h))                                              0\n",
              "PAA concentration offline(PAA_offline:PAA (g L^{-1}))                 111873\n",
              "Oil flow(Foil:L/hr)                                                        0\n",
              "NH_3 concentration off-line(NH3_offline:NH3 (g L^{-1}))               111873\n",
              "Oxygen Uptake Rate(OUR:(g min^{-1}))                                       0\n",
              "Oxygen in percent in off-gas(O2:O2  (%))                                   0\n",
              "Offline Penicillin concentration(P_offline:P(g L^{-1}))               111873\n",
              "Offline Biomass concentratio(X_offline:X(g L^{-1}))                   111873\n",
              "Carbon evolution rate(CER:g/h)                                             0\n",
              "Ammonia shots(NH3_shots:kgs)                                               0\n",
              "Viscosity(Viscosity_offline:centPoise)                                111873\n",
              "Fault reference(Fault_ref:Fault ref)                                       0\n",
              "0 - Recipe driven 1 - Operator controlled(Control_ref:Control ref)         0\n",
              "1- No Raman spec                                                           0\n",
              "2-PAT control(PAT_ref:PAT ref)                                             0\n",
              "Batch reference(Batch_ref:Batch ref)                                       0\n",
              "Batch ID                                                                   0\n",
              "Fault flag                                                                 0\n",
              " 1-Raman spec recorded                                                     0\n",
              "dtype: int64"
            ]
          },
          "metadata": {
            "tags": []
          },
          "execution_count": 32
        }
      ]
    },
    {
      "cell_type": "code",
      "metadata": {
        "id": "8IbfvseJsj7B"
      },
      "source": [
        "#Replacing the missing values with 0\n",
        "newdf[['PAA concentration offline(PAA_offline:PAA (g L^{-1}))', 'NH_3 concentration off-line(NH3_offline:NH3 (g L^{-1}))', 'Offline Penicillin concentration(P_offline:P(g L^{-1}))', 'Offline Biomass concentratio(X_offline:X(g L^{-1}))', 'Viscosity(Viscosity_offline:centPoise)']] = newdf[['PAA concentration offline(PAA_offline:PAA (g L^{-1}))', 'NH_3 concentration off-line(NH3_offline:NH3 (g L^{-1}))', 'Offline Penicillin concentration(P_offline:P(g L^{-1}))', 'Offline Biomass concentratio(X_offline:X(g L^{-1}))', 'Viscosity(Viscosity_offline:centPoise)']].fillna(0)"
      ],
      "execution_count": null,
      "outputs": []
    },
    {
      "cell_type": "code",
      "metadata": {
        "colab": {
          "base_uri": "https://localhost:8080/"
        },
        "id": "THjPX5wOsmnU",
        "outputId": "10f40352-7792-4a40-c1c1-7fb75853d0a8"
      },
      "source": [
        "newdf.isna().sum()"
      ],
      "execution_count": null,
      "outputs": [
        {
          "output_type": "execute_result",
          "data": {
            "text/plain": [
              "Time (h)                                                              0\n",
              "Aeration rate(Fg:L/h)                                                 0\n",
              "Agitator RPM(RPM:RPM)                                                 0\n",
              "Sugar feed rate(Fs:L/h)                                               0\n",
              "Acid flow rate(Fa:L/h)                                                0\n",
              "Base flow rate(Fb:L/h)                                                0\n",
              "Heating/cooling water flow rate(Fc:L/h)                               0\n",
              "Heating water flow rate(Fh:L/h)                                       0\n",
              "Water for injection/dilution(Fw:L/h)                                  0\n",
              "Air head pressure(pressure:bar)                                       0\n",
              "Dumped broth flow(Fremoved:L/h)                                       0\n",
              "Substrate concentration(S:g/L)                                        0\n",
              "Dissolved oxygen concentration(DO2:mg/L)                              0\n",
              "Penicillin concentration(P:g/L)                                       0\n",
              "Vessel Volume(V:L)                                                    0\n",
              "Vessel Weight(Wt:Kg)                                                  0\n",
              "pH(pH:pH)                                                             0\n",
              "Temperature(T:K)                                                      0\n",
              "Generated heat(Q:kJ)                                                  0\n",
              "carbon dioxide percent in off-gas(CO2outgas:%)                        0\n",
              "PAA flow(Fpaa:PAA flow (L/h))                                         0\n",
              "PAA concentration offline(PAA_offline:PAA (g L^{-1}))                 0\n",
              "Oil flow(Foil:L/hr)                                                   0\n",
              "NH_3 concentration off-line(NH3_offline:NH3 (g L^{-1}))               0\n",
              "Oxygen Uptake Rate(OUR:(g min^{-1}))                                  0\n",
              "Oxygen in percent in off-gas(O2:O2  (%))                              0\n",
              "Offline Penicillin concentration(P_offline:P(g L^{-1}))               0\n",
              "Offline Biomass concentratio(X_offline:X(g L^{-1}))                   0\n",
              "Carbon evolution rate(CER:g/h)                                        0\n",
              "Ammonia shots(NH3_shots:kgs)                                          0\n",
              "Viscosity(Viscosity_offline:centPoise)                                0\n",
              "Fault reference(Fault_ref:Fault ref)                                  0\n",
              "0 - Recipe driven 1 - Operator controlled(Control_ref:Control ref)    0\n",
              "1- No Raman spec                                                      0\n",
              "2-PAT control(PAT_ref:PAT ref)                                        0\n",
              "Batch reference(Batch_ref:Batch ref)                                  0\n",
              "Batch ID                                                              0\n",
              "Fault flag                                                            0\n",
              " 1-Raman spec recorded                                                0\n",
              "dtype: int64"
            ]
          },
          "metadata": {
            "tags": []
          },
          "execution_count": 34
        }
      ]
    },
    {
      "cell_type": "code",
      "metadata": {
        "colab": {
          "base_uri": "https://localhost:8080/",
          "height": 371
        },
        "id": "1VjNfL28suHc",
        "outputId": "ca59ea8b-24c0-4025-b25e-21e5c51d81ff"
      },
      "source": [
        "newdf.describe()"
      ],
      "execution_count": null,
      "outputs": [
        {
          "output_type": "execute_result",
          "data": {
            "text/html": [
              "<div>\n",
              "<style scoped>\n",
              "    .dataframe tbody tr th:only-of-type {\n",
              "        vertical-align: middle;\n",
              "    }\n",
              "\n",
              "    .dataframe tbody tr th {\n",
              "        vertical-align: top;\n",
              "    }\n",
              "\n",
              "    .dataframe thead th {\n",
              "        text-align: right;\n",
              "    }\n",
              "</style>\n",
              "<table border=\"1\" class=\"dataframe\">\n",
              "  <thead>\n",
              "    <tr style=\"text-align: right;\">\n",
              "      <th></th>\n",
              "      <th>Time (h)</th>\n",
              "      <th>Aeration rate(Fg:L/h)</th>\n",
              "      <th>Agitator RPM(RPM:RPM)</th>\n",
              "      <th>Sugar feed rate(Fs:L/h)</th>\n",
              "      <th>Acid flow rate(Fa:L/h)</th>\n",
              "      <th>Base flow rate(Fb:L/h)</th>\n",
              "      <th>Heating/cooling water flow rate(Fc:L/h)</th>\n",
              "      <th>Heating water flow rate(Fh:L/h)</th>\n",
              "      <th>Water for injection/dilution(Fw:L/h)</th>\n",
              "      <th>Air head pressure(pressure:bar)</th>\n",
              "      <th>Dumped broth flow(Fremoved:L/h)</th>\n",
              "      <th>Substrate concentration(S:g/L)</th>\n",
              "      <th>Dissolved oxygen concentration(DO2:mg/L)</th>\n",
              "      <th>Penicillin concentration(P:g/L)</th>\n",
              "      <th>Vessel Volume(V:L)</th>\n",
              "      <th>Vessel Weight(Wt:Kg)</th>\n",
              "      <th>pH(pH:pH)</th>\n",
              "      <th>Temperature(T:K)</th>\n",
              "      <th>Generated heat(Q:kJ)</th>\n",
              "      <th>carbon dioxide percent in off-gas(CO2outgas:%)</th>\n",
              "      <th>PAA flow(Fpaa:PAA flow (L/h))</th>\n",
              "      <th>PAA concentration offline(PAA_offline:PAA (g L^{-1}))</th>\n",
              "      <th>Oil flow(Foil:L/hr)</th>\n",
              "      <th>NH_3 concentration off-line(NH3_offline:NH3 (g L^{-1}))</th>\n",
              "      <th>Oxygen Uptake Rate(OUR:(g min^{-1}))</th>\n",
              "      <th>Oxygen in percent in off-gas(O2:O2  (%))</th>\n",
              "      <th>Offline Penicillin concentration(P_offline:P(g L^{-1}))</th>\n",
              "      <th>Offline Biomass concentratio(X_offline:X(g L^{-1}))</th>\n",
              "      <th>Carbon evolution rate(CER:g/h)</th>\n",
              "      <th>Ammonia shots(NH3_shots:kgs)</th>\n",
              "      <th>Viscosity(Viscosity_offline:centPoise)</th>\n",
              "      <th>Fault reference(Fault_ref:Fault ref)</th>\n",
              "      <th>0 - Recipe driven 1 - Operator controlled(Control_ref:Control ref)</th>\n",
              "      <th>1- No Raman spec</th>\n",
              "      <th>2-PAT control(PAT_ref:PAT ref)</th>\n",
              "      <th>Batch reference(Batch_ref:Batch ref)</th>\n",
              "      <th>Batch ID</th>\n",
              "      <th>Fault flag</th>\n",
              "      <th>1-Raman spec recorded</th>\n",
              "    </tr>\n",
              "  </thead>\n",
              "  <tbody>\n",
              "    <tr>\n",
              "      <th>count</th>\n",
              "      <td>113935.000000</td>\n",
              "      <td>113935.000000</td>\n",
              "      <td>113935.0</td>\n",
              "      <td>113935.000000</td>\n",
              "      <td>113935.000000</td>\n",
              "      <td>113935.000000</td>\n",
              "      <td>113935.000000</td>\n",
              "      <td>113935.000000</td>\n",
              "      <td>113935.000000</td>\n",
              "      <td>113935.000000</td>\n",
              "      <td>113935.000000</td>\n",
              "      <td>113935.000000</td>\n",
              "      <td>113935.000000</td>\n",
              "      <td>1.139350e+05</td>\n",
              "      <td>113935.000000</td>\n",
              "      <td>113935.000000</td>\n",
              "      <td>113935.000000</td>\n",
              "      <td>113935.000000</td>\n",
              "      <td>113935.000000</td>\n",
              "      <td>113935.000000</td>\n",
              "      <td>113935.000000</td>\n",
              "      <td>113935.000000</td>\n",
              "      <td>113935.000000</td>\n",
              "      <td>113935.000000</td>\n",
              "      <td>113935.000000</td>\n",
              "      <td>113935.000000</td>\n",
              "      <td>113935.000000</td>\n",
              "      <td>113935.000000</td>\n",
              "      <td>113935.000000</td>\n",
              "      <td>113935.0</td>\n",
              "      <td>113935.000000</td>\n",
              "      <td>113935.000000</td>\n",
              "      <td>113935.000000</td>\n",
              "      <td>113935.000000</td>\n",
              "      <td>113935.000000</td>\n",
              "      <td>113935.000000</td>\n",
              "      <td>113935.000000</td>\n",
              "      <td>113935.000000</td>\n",
              "      <td>113935.000000</td>\n",
              "    </tr>\n",
              "    <tr>\n",
              "      <th>mean</th>\n",
              "      <td>114.750656</td>\n",
              "      <td>65.246360</td>\n",
              "      <td>100.0</td>\n",
              "      <td>76.663764</td>\n",
              "      <td>0.073209</td>\n",
              "      <td>61.334389</td>\n",
              "      <td>74.346341</td>\n",
              "      <td>20.763025</td>\n",
              "      <td>154.811954</td>\n",
              "      <td>0.945026</td>\n",
              "      <td>-214.508272</td>\n",
              "      <td>4.079817</td>\n",
              "      <td>12.569647</td>\n",
              "      <td>1.433395e+01</td>\n",
              "      <td>73312.865441</td>\n",
              "      <td>81076.728512</td>\n",
              "      <td>6.496565</td>\n",
              "      <td>298.026489</td>\n",
              "      <td>279.072562</td>\n",
              "      <td>1.444042</td>\n",
              "      <td>7.642712</td>\n",
              "      <td>34.164578</td>\n",
              "      <td>26.352789</td>\n",
              "      <td>35.505515</td>\n",
              "      <td>1.258208</td>\n",
              "      <td>0.191458</td>\n",
              "      <td>0.261326</td>\n",
              "      <td>0.340227</td>\n",
              "      <td>1.250103</td>\n",
              "      <td>0.0</td>\n",
              "      <td>0.932890</td>\n",
              "      <td>0.011024</td>\n",
              "      <td>0.301795</td>\n",
              "      <td>1.295783</td>\n",
              "      <td>50.402466</td>\n",
              "      <td>0.101154</td>\n",
              "      <td>89307.003616</td>\n",
              "      <td>89402.127915</td>\n",
              "      <td>50.402466</td>\n",
              "    </tr>\n",
              "    <tr>\n",
              "      <th>std</th>\n",
              "      <td>66.990504</td>\n",
              "      <td>11.690215</td>\n",
              "      <td>0.0</td>\n",
              "      <td>25.680134</td>\n",
              "      <td>0.552788</td>\n",
              "      <td>44.972713</td>\n",
              "      <td>108.022600</td>\n",
              "      <td>50.230266</td>\n",
              "      <td>155.601474</td>\n",
              "      <td>0.134269</td>\n",
              "      <td>901.125084</td>\n",
              "      <td>13.303517</td>\n",
              "      <td>1.498680</td>\n",
              "      <td>9.932453e+00</td>\n",
              "      <td>8599.642160</td>\n",
              "      <td>10097.227390</td>\n",
              "      <td>0.065676</td>\n",
              "      <td>0.197513</td>\n",
              "      <td>139.982445</td>\n",
              "      <td>0.498955</td>\n",
              "      <td>3.560204</td>\n",
              "      <td>329.500358</td>\n",
              "      <td>4.954933</td>\n",
              "      <td>271.506656</td>\n",
              "      <td>0.463273</td>\n",
              "      <td>0.004718</td>\n",
              "      <td>2.368482</td>\n",
              "      <td>2.677830</td>\n",
              "      <td>0.484094</td>\n",
              "      <td>0.0</td>\n",
              "      <td>7.596114</td>\n",
              "      <td>0.104415</td>\n",
              "      <td>0.459039</td>\n",
              "      <td>0.456396</td>\n",
              "      <td>28.862140</td>\n",
              "      <td>0.301534</td>\n",
              "      <td>47765.751082</td>\n",
              "      <td>47852.683115</td>\n",
              "      <td>28.862140</td>\n",
              "    </tr>\n",
              "    <tr>\n",
              "      <th>min</th>\n",
              "      <td>0.200000</td>\n",
              "      <td>20.000000</td>\n",
              "      <td>100.0</td>\n",
              "      <td>2.000000</td>\n",
              "      <td>0.000000</td>\n",
              "      <td>0.000000</td>\n",
              "      <td>0.000100</td>\n",
              "      <td>0.000100</td>\n",
              "      <td>0.000000</td>\n",
              "      <td>0.600000</td>\n",
              "      <td>-4000.000000</td>\n",
              "      <td>0.000006</td>\n",
              "      <td>1.000000</td>\n",
              "      <td>3.694700e-26</td>\n",
              "      <td>56549.000000</td>\n",
              "      <td>60395.000000</td>\n",
              "      <td>5.395700</td>\n",
              "      <td>296.840000</td>\n",
              "      <td>0.000001</td>\n",
              "      <td>0.075425</td>\n",
              "      <td>0.000000</td>\n",
              "      <td>0.000000</td>\n",
              "      <td>22.000000</td>\n",
              "      <td>0.000000</td>\n",
              "      <td>-1.242000</td>\n",
              "      <td>0.129500</td>\n",
              "      <td>0.000000</td>\n",
              "      <td>0.000000</td>\n",
              "      <td>0.028685</td>\n",
              "      <td>0.0</td>\n",
              "      <td>0.000000</td>\n",
              "      <td>0.000000</td>\n",
              "      <td>0.000000</td>\n",
              "      <td>1.000000</td>\n",
              "      <td>1.000000</td>\n",
              "      <td>0.000000</td>\n",
              "      <td>0.000000</td>\n",
              "      <td>0.000000</td>\n",
              "      <td>1.000000</td>\n",
              "    </tr>\n",
              "    <tr>\n",
              "      <th>25%</th>\n",
              "      <td>57.000000</td>\n",
              "      <td>60.000000</td>\n",
              "      <td>100.0</td>\n",
              "      <td>72.000000</td>\n",
              "      <td>0.000000</td>\n",
              "      <td>35.766000</td>\n",
              "      <td>11.157000</td>\n",
              "      <td>0.000100</td>\n",
              "      <td>0.000000</td>\n",
              "      <td>0.900000</td>\n",
              "      <td>0.000000</td>\n",
              "      <td>0.001025</td>\n",
              "      <td>11.639000</td>\n",
              "      <td>5.531250e+00</td>\n",
              "      <td>65885.500000</td>\n",
              "      <td>73018.500000</td>\n",
              "      <td>6.493200</td>\n",
              "      <td>297.950000</td>\n",
              "      <td>177.000000</td>\n",
              "      <td>1.225900</td>\n",
              "      <td>5.844400</td>\n",
              "      <td>0.000000</td>\n",
              "      <td>23.000000</td>\n",
              "      <td>0.000000</td>\n",
              "      <td>1.014000</td>\n",
              "      <td>0.188860</td>\n",
              "      <td>0.000000</td>\n",
              "      <td>0.000000</td>\n",
              "      <td>0.978110</td>\n",
              "      <td>0.0</td>\n",
              "      <td>0.000000</td>\n",
              "      <td>0.000000</td>\n",
              "      <td>0.000000</td>\n",
              "      <td>1.000000</td>\n",
              "      <td>26.000000</td>\n",
              "      <td>0.000000</td>\n",
              "      <td>47016.500000</td>\n",
              "      <td>47029.500000</td>\n",
              "      <td>26.000000</td>\n",
              "    </tr>\n",
              "    <tr>\n",
              "      <th>50%</th>\n",
              "      <td>114.000000</td>\n",
              "      <td>65.000000</td>\n",
              "      <td>100.0</td>\n",
              "      <td>80.000000</td>\n",
              "      <td>0.000000</td>\n",
              "      <td>55.407000</td>\n",
              "      <td>34.384000</td>\n",
              "      <td>0.159010</td>\n",
              "      <td>100.000000</td>\n",
              "      <td>0.900000</td>\n",
              "      <td>0.000000</td>\n",
              "      <td>0.001644</td>\n",
              "      <td>12.636000</td>\n",
              "      <td>1.438000e+01</td>\n",
              "      <td>75770.000000</td>\n",
              "      <td>84367.000000</td>\n",
              "      <td>6.500900</td>\n",
              "      <td>297.990000</td>\n",
              "      <td>276.780000</td>\n",
              "      <td>1.596300</td>\n",
              "      <td>9.791200</td>\n",
              "      <td>0.000000</td>\n",
              "      <td>23.000000</td>\n",
              "      <td>0.000000</td>\n",
              "      <td>1.265800</td>\n",
              "      <td>0.191180</td>\n",
              "      <td>0.000000</td>\n",
              "      <td>0.000000</td>\n",
              "      <td>1.402600</td>\n",
              "      <td>0.0</td>\n",
              "      <td>0.000000</td>\n",
              "      <td>0.000000</td>\n",
              "      <td>0.000000</td>\n",
              "      <td>1.000000</td>\n",
              "      <td>50.000000</td>\n",
              "      <td>0.000000</td>\n",
              "      <td>89699.000000</td>\n",
              "      <td>89772.000000</td>\n",
              "      <td>50.000000</td>\n",
              "    </tr>\n",
              "    <tr>\n",
              "      <th>75%</th>\n",
              "      <td>171.000000</td>\n",
              "      <td>75.000000</td>\n",
              "      <td>100.0</td>\n",
              "      <td>90.000000</td>\n",
              "      <td>0.000000</td>\n",
              "      <td>76.271500</td>\n",
              "      <td>94.904500</td>\n",
              "      <td>11.640500</td>\n",
              "      <td>250.000000</td>\n",
              "      <td>1.100000</td>\n",
              "      <td>0.000000</td>\n",
              "      <td>0.003003</td>\n",
              "      <td>13.614000</td>\n",
              "      <td>2.268750e+01</td>\n",
              "      <td>79892.000000</td>\n",
              "      <td>88608.000000</td>\n",
              "      <td>6.508600</td>\n",
              "      <td>298.040000</td>\n",
              "      <td>364.565000</td>\n",
              "      <td>1.757300</td>\n",
              "      <td>10.000000</td>\n",
              "      <td>0.000000</td>\n",
              "      <td>30.000000</td>\n",
              "      <td>0.000000</td>\n",
              "      <td>1.603600</td>\n",
              "      <td>0.193660</td>\n",
              "      <td>0.000000</td>\n",
              "      <td>0.000000</td>\n",
              "      <td>1.621450</td>\n",
              "      <td>0.0</td>\n",
              "      <td>0.000000</td>\n",
              "      <td>0.000000</td>\n",
              "      <td>1.000000</td>\n",
              "      <td>2.000000</td>\n",
              "      <td>76.000000</td>\n",
              "      <td>0.000000</td>\n",
              "      <td>129390.000000</td>\n",
              "      <td>129570.000000</td>\n",
              "      <td>76.000000</td>\n",
              "    </tr>\n",
              "    <tr>\n",
              "      <th>max</th>\n",
              "      <td>290.000000</td>\n",
              "      <td>75.000000</td>\n",
              "      <td>100.0</td>\n",
              "      <td>150.000000</td>\n",
              "      <td>12.996000</td>\n",
              "      <td>225.000000</td>\n",
              "      <td>1500.000000</td>\n",
              "      <td>1500.000000</td>\n",
              "      <td>500.000000</td>\n",
              "      <td>1.100000</td>\n",
              "      <td>0.000000</td>\n",
              "      <td>115.270000</td>\n",
              "      <td>16.508000</td>\n",
              "      <td>3.618300e+01</td>\n",
              "      <td>95716.000000</td>\n",
              "      <td>107010.000000</td>\n",
              "      <td>6.766400</td>\n",
              "      <td>302.180000</td>\n",
              "      <td>1712.900000</td>\n",
              "      <td>7.121400</td>\n",
              "      <td>15.000000</td>\n",
              "      <td>11524.000000</td>\n",
              "      <td>35.000000</td>\n",
              "      <td>5170.000000</td>\n",
              "      <td>6.761100</td>\n",
              "      <td>0.227510</td>\n",
              "      <td>36.180000</td>\n",
              "      <td>27.882000</td>\n",
              "      <td>2.048800</td>\n",
              "      <td>0.0</td>\n",
              "      <td>117.930000</td>\n",
              "      <td>1.000000</td>\n",
              "      <td>1.000000</td>\n",
              "      <td>2.000000</td>\n",
              "      <td>100.000000</td>\n",
              "      <td>1.000000</td>\n",
              "      <td>194630.000000</td>\n",
              "      <td>195340.000000</td>\n",
              "      <td>100.000000</td>\n",
              "    </tr>\n",
              "  </tbody>\n",
              "</table>\n",
              "</div>"
            ],
            "text/plain": [
              "            Time (h)  ...   1-Raman spec recorded\n",
              "count  113935.000000  ...           113935.000000\n",
              "mean      114.750656  ...               50.402466\n",
              "std        66.990504  ...               28.862140\n",
              "min         0.200000  ...                1.000000\n",
              "25%        57.000000  ...               26.000000\n",
              "50%       114.000000  ...               50.000000\n",
              "75%       171.000000  ...               76.000000\n",
              "max       290.000000  ...              100.000000\n",
              "\n",
              "[8 rows x 39 columns]"
            ]
          },
          "metadata": {
            "tags": []
          },
          "execution_count": 35
        }
      ]
    },
    {
      "cell_type": "code",
      "metadata": {
        "colab": {
          "base_uri": "https://localhost:8080/",
          "height": 195
        },
        "id": "w27kt_Xes1se",
        "outputId": "cbe32dd9-101d-4274-f252-13c7f67288aa"
      },
      "source": [
        "df2= pd.read_csv('/content/100_Batches_IndPenSim_Statistics.csv')\n",
        "df2.head()"
      ],
      "execution_count": null,
      "outputs": [
        {
          "output_type": "execute_result",
          "data": {
            "text/html": [
              "<div>\n",
              "<style scoped>\n",
              "    .dataframe tbody tr th:only-of-type {\n",
              "        vertical-align: middle;\n",
              "    }\n",
              "\n",
              "    .dataframe tbody tr th {\n",
              "        vertical-align: top;\n",
              "    }\n",
              "\n",
              "    .dataframe thead th {\n",
              "        text-align: right;\n",
              "    }\n",
              "</style>\n",
              "<table border=\"1\" class=\"dataframe\">\n",
              "  <thead>\n",
              "    <tr style=\"text-align: right;\">\n",
              "      <th></th>\n",
              "      <th>Batch ref</th>\n",
              "      <th>Penicllin_harvested_during_batch(kg)</th>\n",
              "      <th>Penicllin_harvested_end_of_batch (kg)</th>\n",
              "      <th>Penicllin_yield_total (kg)</th>\n",
              "      <th>Fault ref(0-NoFault 1-Fault)</th>\n",
              "    </tr>\n",
              "  </thead>\n",
              "  <tbody>\n",
              "    <tr>\n",
              "      <th>0</th>\n",
              "      <td>1</td>\n",
              "      <td>1066400.0</td>\n",
              "      <td>1720000.0</td>\n",
              "      <td>2786400.0</td>\n",
              "      <td>0</td>\n",
              "    </tr>\n",
              "    <tr>\n",
              "      <th>1</th>\n",
              "      <td>2</td>\n",
              "      <td>985910.0</td>\n",
              "      <td>1340100.0</td>\n",
              "      <td>2326000.0</td>\n",
              "      <td>0</td>\n",
              "    </tr>\n",
              "    <tr>\n",
              "      <th>2</th>\n",
              "      <td>3</td>\n",
              "      <td>1416100.0</td>\n",
              "      <td>1259200.0</td>\n",
              "      <td>2675300.0</td>\n",
              "      <td>0</td>\n",
              "    </tr>\n",
              "    <tr>\n",
              "      <th>3</th>\n",
              "      <td>4</td>\n",
              "      <td>815700.0</td>\n",
              "      <td>1071000.0</td>\n",
              "      <td>1886700.0</td>\n",
              "      <td>0</td>\n",
              "    </tr>\n",
              "    <tr>\n",
              "      <th>4</th>\n",
              "      <td>5</td>\n",
              "      <td>1128500.0</td>\n",
              "      <td>2434400.0</td>\n",
              "      <td>3562900.0</td>\n",
              "      <td>0</td>\n",
              "    </tr>\n",
              "  </tbody>\n",
              "</table>\n",
              "</div>"
            ],
            "text/plain": [
              "   Batch ref  ...  Fault ref(0-NoFault 1-Fault)\n",
              "0          1  ...                             0\n",
              "1          2  ...                             0\n",
              "2          3  ...                             0\n",
              "3          4  ...                             0\n",
              "4          5  ...                             0\n",
              "\n",
              "[5 rows x 5 columns]"
            ]
          },
          "metadata": {
            "tags": []
          },
          "execution_count": 36
        }
      ]
    },
    {
      "cell_type": "code",
      "metadata": {
        "id": "EeG9dEnrumLJ"
      },
      "source": [
        " #creating new column in newdf with NaN values\n",
        " newdf[\"Penicllin_yield_total (kg)\"] = np.nan"
      ],
      "execution_count": null,
      "outputs": []
    },
    {
      "cell_type": "code",
      "metadata": {
        "colab": {
          "base_uri": "https://localhost:8080/"
        },
        "id": "SMkK88L-uwNE",
        "outputId": "6f9eeda6-40c0-4c17-fa8a-f76c990c3ea1"
      },
      "source": [
        "newdf.columns"
      ],
      "execution_count": null,
      "outputs": [
        {
          "output_type": "execute_result",
          "data": {
            "text/plain": [
              "Index(['Time (h)', 'Aeration rate(Fg:L/h)', 'Agitator RPM(RPM:RPM)',\n",
              "       'Sugar feed rate(Fs:L/h)', 'Acid flow rate(Fa:L/h)',\n",
              "       'Base flow rate(Fb:L/h)', 'Heating/cooling water flow rate(Fc:L/h)',\n",
              "       'Heating water flow rate(Fh:L/h)',\n",
              "       'Water for injection/dilution(Fw:L/h)',\n",
              "       'Air head pressure(pressure:bar)', 'Dumped broth flow(Fremoved:L/h)',\n",
              "       'Substrate concentration(S:g/L)',\n",
              "       'Dissolved oxygen concentration(DO2:mg/L)',\n",
              "       'Penicillin concentration(P:g/L)', 'Vessel Volume(V:L)',\n",
              "       'Vessel Weight(Wt:Kg)', 'pH(pH:pH)', 'Temperature(T:K)',\n",
              "       'Generated heat(Q:kJ)',\n",
              "       'carbon dioxide percent in off-gas(CO2outgas:%)',\n",
              "       'PAA flow(Fpaa:PAA flow (L/h))',\n",
              "       'PAA concentration offline(PAA_offline:PAA (g L^{-1}))',\n",
              "       'Oil flow(Foil:L/hr)',\n",
              "       'NH_3 concentration off-line(NH3_offline:NH3 (g L^{-1}))',\n",
              "       'Oxygen Uptake Rate(OUR:(g min^{-1}))',\n",
              "       'Oxygen in percent in off-gas(O2:O2  (%))',\n",
              "       'Offline Penicillin concentration(P_offline:P(g L^{-1}))',\n",
              "       'Offline Biomass concentratio(X_offline:X(g L^{-1}))',\n",
              "       'Carbon evolution rate(CER:g/h)', 'Ammonia shots(NH3_shots:kgs)',\n",
              "       'Viscosity(Viscosity_offline:centPoise)',\n",
              "       'Fault reference(Fault_ref:Fault ref)',\n",
              "       '0 - Recipe driven 1 - Operator controlled(Control_ref:Control ref)',\n",
              "       '1- No Raman spec', '2-PAT control(PAT_ref:PAT ref)',\n",
              "       'Batch reference(Batch_ref:Batch ref)', 'Batch ID', 'Fault flag',\n",
              "       ' 1-Raman spec recorded', 'Penicllin_yield_total (kg)'],\n",
              "      dtype='object')"
            ]
          },
          "metadata": {
            "tags": []
          },
          "execution_count": 39
        }
      ]
    },
    {
      "cell_type": "code",
      "metadata": {
        "id": "reH4Lqu2u7OY"
      },
      "source": [
        "#Mapping the values from two datasets\n",
        "for i in range(0,len(newdf)):\n",
        "  x=newdf.loc[i]\n",
        "  y=int(x['2-PAT control(PAT_ref:PAT ref)'])\n",
        "  z=df2.loc[y-1]\n",
        "  newdf.loc[i,'Penicllin_yield_total (kg)']=z['Penicllin_yield_total (kg)']\n"
      ],
      "execution_count": null,
      "outputs": []
    },
    {
      "cell_type": "code",
      "metadata": {
        "colab": {
          "base_uri": "https://localhost:8080/"
        },
        "id": "YgHgBdiuvQbq",
        "outputId": "147684d3-b059-4081-e4d1-976fbe622916"
      },
      "source": [
        "newdf.isna().sum()"
      ],
      "execution_count": null,
      "outputs": [
        {
          "output_type": "execute_result",
          "data": {
            "text/plain": [
              "Time (h)                                                              0\n",
              "Aeration rate(Fg:L/h)                                                 0\n",
              "Agitator RPM(RPM:RPM)                                                 0\n",
              "Sugar feed rate(Fs:L/h)                                               0\n",
              "Acid flow rate(Fa:L/h)                                                0\n",
              "Base flow rate(Fb:L/h)                                                0\n",
              "Heating/cooling water flow rate(Fc:L/h)                               0\n",
              "Heating water flow rate(Fh:L/h)                                       0\n",
              "Water for injection/dilution(Fw:L/h)                                  0\n",
              "Air head pressure(pressure:bar)                                       0\n",
              "Dumped broth flow(Fremoved:L/h)                                       0\n",
              "Substrate concentration(S:g/L)                                        0\n",
              "Dissolved oxygen concentration(DO2:mg/L)                              0\n",
              "Penicillin concentration(P:g/L)                                       0\n",
              "Vessel Volume(V:L)                                                    0\n",
              "Vessel Weight(Wt:Kg)                                                  0\n",
              "pH(pH:pH)                                                             0\n",
              "Temperature(T:K)                                                      0\n",
              "Generated heat(Q:kJ)                                                  0\n",
              "carbon dioxide percent in off-gas(CO2outgas:%)                        0\n",
              "PAA flow(Fpaa:PAA flow (L/h))                                         0\n",
              "PAA concentration offline(PAA_offline:PAA (g L^{-1}))                 0\n",
              "Oil flow(Foil:L/hr)                                                   0\n",
              "NH_3 concentration off-line(NH3_offline:NH3 (g L^{-1}))               0\n",
              "Oxygen Uptake Rate(OUR:(g min^{-1}))                                  0\n",
              "Oxygen in percent in off-gas(O2:O2  (%))                              0\n",
              "Offline Penicillin concentration(P_offline:P(g L^{-1}))               0\n",
              "Offline Biomass concentratio(X_offline:X(g L^{-1}))                   0\n",
              "Carbon evolution rate(CER:g/h)                                        0\n",
              "Ammonia shots(NH3_shots:kgs)                                          0\n",
              "Viscosity(Viscosity_offline:centPoise)                                0\n",
              "Fault reference(Fault_ref:Fault ref)                                  0\n",
              "0 - Recipe driven 1 - Operator controlled(Control_ref:Control ref)    0\n",
              "1- No Raman spec                                                      0\n",
              "2-PAT control(PAT_ref:PAT ref)                                        0\n",
              "Batch reference(Batch_ref:Batch ref)                                  0\n",
              "Batch ID                                                              0\n",
              "Fault flag                                                            0\n",
              " 1-Raman spec recorded                                                0\n",
              "Penicllin_yield_total (kg)                                            0\n",
              "dtype: int64"
            ]
          },
          "metadata": {
            "tags": []
          },
          "execution_count": 50
        }
      ]
    },
    {
      "cell_type": "code",
      "metadata": {
        "colab": {
          "base_uri": "https://localhost:8080/"
        },
        "id": "YVI1NnhDvTKC",
        "outputId": "6bdc9b4f-d497-4ffd-e4b4-5e415b400ced"
      },
      "source": [
        "print(newdf.loc[1])"
      ],
      "execution_count": null,
      "outputs": [
        {
          "output_type": "stream",
          "text": [
            "Time (h)                                                              4.000000e-01\n",
            "Aeration rate(Fg:L/h)                                                 3.000000e+01\n",
            "Agitator RPM(RPM:RPM)                                                 1.000000e+02\n",
            "Sugar feed rate(Fs:L/h)                                               8.000000e+00\n",
            "Acid flow rate(Fa:L/h)                                                0.000000e+00\n",
            "Base flow rate(Fb:L/h)                                                5.122100e+01\n",
            "Heating/cooling water flow rate(Fc:L/h)                               1.815500e+01\n",
            "Heating water flow rate(Fh:L/h)                                       1.000000e-04\n",
            "Water for injection/dilution(Fw:L/h)                                  0.000000e+00\n",
            "Air head pressure(pressure:bar)                                       6.000000e-01\n",
            "Dumped broth flow(Fremoved:L/h)                                       0.000000e+00\n",
            "Substrate concentration(S:g/L)                                        1.004600e+00\n",
            "Dissolved oxygen concentration(DO2:mg/L)                              1.469900e+01\n",
            "Penicillin concentration(P:g/L)                                       1.000000e-03\n",
            "Vessel Volume(V:L)                                                    5.848700e+04\n",
            "Vessel Weight(Wt:Kg)                                                  6.258500e+04\n",
            "pH(pH:pH)                                                             6.493200e+00\n",
            "Temperature(T:K)                                                      2.981700e+02\n",
            "Generated heat(Q:kJ)                                                  1.000000e-06\n",
            "carbon dioxide percent in off-gas(CO2outgas:%)                        1.017600e-01\n",
            "PAA flow(Fpaa:PAA flow (L/h))                                         5.000000e+00\n",
            "PAA concentration offline(PAA_offline:PAA (g L^{-1}))                 0.000000e+00\n",
            "Oil flow(Foil:L/hr)                                                   2.200000e+01\n",
            "NH_3 concentration off-line(NH3_offline:NH3 (g L^{-1}))               0.000000e+00\n",
            "Oxygen Uptake Rate(OUR:(g min^{-1}))                                  5.814700e-02\n",
            "Oxygen in percent in off-gas(O2:O2  (%))                              2.039000e-01\n",
            "Offline Penicillin concentration(P_offline:P(g L^{-1}))               0.000000e+00\n",
            "Offline Biomass concentratio(X_offline:X(g L^{-1}))                   0.000000e+00\n",
            "Carbon evolution rate(CER:g/h)                                        3.870200e-02\n",
            "Ammonia shots(NH3_shots:kgs)                                          0.000000e+00\n",
            "Viscosity(Viscosity_offline:centPoise)                                0.000000e+00\n",
            "Fault reference(Fault_ref:Fault ref)                                  0.000000e+00\n",
            "0 - Recipe driven 1 - Operator controlled(Control_ref:Control ref)    0.000000e+00\n",
            "1- No Raman spec                                                      1.000000e+00\n",
            "2-PAT control(PAT_ref:PAT ref)                                        1.000000e+00\n",
            "Batch reference(Batch_ref:Batch ref)                                  0.000000e+00\n",
            "Batch ID                                                              0.000000e+00\n",
            "Fault flag                                                            0.000000e+00\n",
            " 1-Raman spec recorded                                                1.000000e+00\n",
            "Penicllin_yield_total (kg)                                            2.786400e+06\n",
            "Name: 1, dtype: float64\n"
          ],
          "name": "stdout"
        }
      ]
    },
    {
      "cell_type": "code",
      "metadata": {
        "colab": {
          "base_uri": "https://localhost:8080/"
        },
        "id": "cniBL6rO5MQV",
        "outputId": "ab335e30-aa89-4c5f-fc5c-df94656633d0"
      },
      "source": [
        "newdf.shape"
      ],
      "execution_count": null,
      "outputs": [
        {
          "output_type": "execute_result",
          "data": {
            "text/plain": [
              "(113935, 40)"
            ]
          },
          "metadata": {
            "tags": []
          },
          "execution_count": 52
        }
      ]
    },
    {
      "cell_type": "code",
      "metadata": {
        "id": "NHlYQdd0vZOs"
      },
      "source": [
        "newdf.to_csv(r'C:\\Users\\Admin\\Desktop\\final.csv', index=False) "
      ],
      "execution_count": null,
      "outputs": []
    },
    {
      "cell_type": "code",
      "metadata": {
        "id": "QWXrXdsqfFQ_",
        "colab": {
          "base_uri": "https://localhost:8080/",
          "height": 286
        },
        "outputId": "e23a43d0-1881-4e69-9c16-6aebadfd07d8"
      },
      "source": [
        "d1=data.rename({\"Time (h)\": \"time\", \"Aeration rate(Fg:L/h)\": \"aeration\", \"Base flow rate(Fb:L/h)\":\"base\"}, axis='columns')\n",
        "plt.plot(d1.time, d1.aeration)\n",
        " \n",
        "plt.xlim(0,10)\n",
        "plt.ylim(0,100)\n",
        "\n"
      ],
      "execution_count": null,
      "outputs": [
        {
          "output_type": "execute_result",
          "data": {
            "text/plain": [
              "(0.0, 100.0)"
            ]
          },
          "metadata": {
            "tags": []
          },
          "execution_count": 2
        },
        {
          "output_type": "display_data",
          "data": {
            "image/png": "[encoded data removed]",
            "text/plain": [
              "<Figure size 432x288 with 1 Axes>"
            ]
          },
          "metadata": {
            "tags": [],
            "needs_background": "light"
          }
        }
      ]
    },
    {
      "cell_type": "code",
      "metadata": {
        "colab": {
          "base_uri": "https://localhost:8080/",
          "height": 339
        },
        "id": "oUZmJuzJUmsK",
        "outputId": "7ae8849d-db8e-4069-b7c4-5cf54dc201fa"
      },
      "source": [
        "g1=data['Time (h)']\n",
        "g1=g1.iloc[0:100:5]\n",
        "\n",
        "\n",
        "g2=data['Oxygen in percent in off-gas(O2:O2  (%))']\n",
        "g2=g2.iloc[0:100:5]\n",
        "\n",
        "\n",
        "plt.plot(g1,g2)\n",
        "plt.title(\"Oxygen in off gas with time \\n\")\n",
        "plt.xlabel(\"Time (h) \\n\")\n",
        "plt.ylabel(\"Oxygen in percent in off-gas(O2:O2  (%)) \\n\")"
      ],
      "execution_count": null,
      "outputs": [
        {
          "output_type": "execute_result",
          "data": {
            "text/plain": [
              "Text(0, 0.5, 'Oxygen in percent in off-gas(O2:O2  (%)) \\n')"
            ]
          },
          "metadata": {
            "tags": []
          },
          "execution_count": 23
        },
        {
          "output_type": "display_data",
          "data": {
            "image/png": "[encoded data removed]",
            "text/plain": [
              "<Figure size 432x288 with 1 Axes>"
            ]
          },
          "metadata": {
            "tags": [],
            "needs_background": "light"
          }
        }
      ]
    }
  ]
}